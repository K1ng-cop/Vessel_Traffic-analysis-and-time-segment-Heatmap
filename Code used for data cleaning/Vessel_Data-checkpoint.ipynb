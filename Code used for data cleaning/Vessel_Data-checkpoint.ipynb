{
 "cells": [
  {
   "cell_type": "code",
   "execution_count": 3,
   "id": "db2d44e9-aa40-4c94-837d-f542cafe83eb",
   "metadata": {},
   "outputs": [],
   "source": [
    "import  pandas as pd \n",
    "import numpy as np \n",
    "import re\n",
    "from datetime import datetime, timedelta "
   ]
  },
  {
   "cell_type": "code",
   "execution_count": 4,
   "id": "b7af4eb2-ddcf-4e46-b9c7-228846ebc1a9",
   "metadata": {},
   "outputs": [],
   "source": [
    "file_path = 'Vessel_Data.csv'\n",
    "df = pd.read_csv(file_path)"
   ]
  },
  {
   "cell_type": "code",
   "execution_count": 5,
   "id": "47e2d13d-4238-4f39-bc3d-4cd05bf482ab",
   "metadata": {},
   "outputs": [],
   "source": [
    "df['UTCPortTime'] = pd.to_datetime(df['UTCPortTime'])"
   ]
  },
  {
   "cell_type": "code",
   "execution_count": 10,
   "id": "89718b34-ba31-4d2c-989b-42358a5b56bd",
   "metadata": {},
   "outputs": [],
   "source": [
    "# Convert 'Port' from text to numeric\n",
    "df['Port'] = pd.to_numeric(df['Port'])"
   ]
  },
  {
   "cell_type": "code",
   "execution_count": 11,
   "id": "9588acbe-cadc-4f8c-90b5-78b515e02dcd",
   "metadata": {},
   "outputs": [],
   "source": [
    "# Convert 'SourceMMSI' from text to numeric (integer)\n",
    "df['SourceMMSI'] = pd.to_numeric(df['SourceMMSI'], errors='coerce')"
   ]
  },
  {
   "cell_type": "code",
   "execution_count": 13,
   "id": "b775a15f-edfc-461f-b38a-c7b9e7220ed2",
   "metadata": {},
   "outputs": [],
   "source": [
    "df['MesseageID'] = df['MessageID'].astype(int) #Convert to integer"
   ]
  },
  {
   "cell_type": "code",
   "execution_count": 14,
   "id": "4dd937c1-5470-4f14-aba2-83ebc0a65db1",
   "metadata": {},
   "outputs": [],
   "source": [
    "df['RepeatIndicator'] = df['RepeatIndicator'].astype(str) #Convert to string"
   ]
  },
  {
   "cell_type": "code",
   "execution_count": 19,
   "id": "f15c9c94-f0ab-49e0-99ff-b4e2636984d0",
   "metadata": {},
   "outputs": [],
   "source": [
    "#Convert columns to appropiate data types \n",
    "df['NavigationalStatus'] = df['NavigationalStatus'].astype('category')\n",
    "df['SpeedOverGround'] = pd.to_numeric(df['SpeedOverGround'].str.replace(' knots', '', regex=False), errors='coerce')"
   ]
  },
  {
   "cell_type": "code",
   "execution_count": 31,
   "id": "3561f1ae-8fbf-4fa7-8cab-b2296ea99796",
   "metadata": {},
   "outputs": [],
   "source": [
    "def classify_vessel_status(navigational_status):\n",
    "    if \"under way using engine\" in navigational_status.lower():\n",
    "        return \"Underway using engine\"\n",
    "    elif \"at anchor\" in navigational_status.lower():\n",
    "        return \"Anchored\"\n",
    "    elif \"moored\" in navigational_status.lower():\n",
    "        return \"Moored\"\n",
    "    elif \"engaged in fishing\" in navigational_status.lower():\n",
    "        return \"Engaged in fishing\"\n",
    "    elif \"constrained by her draught\" in navigational_status.lower():\n",
    "        return \"Constrained by her draught\"\n",
    "    elif \"restricted maneuvarability\" in navigational_status.lower():\n",
    "        return\"Restricted maneuvarability\"\n",
    "    elif \"under way sailing\" in navigational_status.lower():\n",
    "        return \"Underway Sailing\"\n",
    "    elif \"undefined\" in navigational_status.lower():\n",
    "        return \"Undefined\"\n",
    "    else:\n",
    "        return \"Other\""
   ]
  },
  {
   "cell_type": "code",
   "execution_count": 28,
   "id": "96af5080-4cb8-44f3-8774-e49f63397ddb",
   "metadata": {},
   "outputs": [],
   "source": [
    "def infer_vessel_type(speed):\n",
    "    if speed < 3:\n",
    "        return \"Fishing/Small vessel\"\n",
    "    elif 3 <= speed < 10:\n",
    "        return \"Tug/Support Vessel\"\n",
    "    elif 10 <= speed < 20:\n",
    "        return \"Cargo/Passenger Ship\"\n",
    "    else:\n",
    "        return \"Fast-moving vessel\""
   ]
  },
  {
   "cell_type": "code",
   "execution_count": 32,
   "id": "56721018-081b-4599-a915-a0c0522d02f7",
   "metadata": {},
   "outputs": [],
   "source": [
    "df['Vesselstatus'] = df['NavigationalStatus'].apply(classify_vessel_status)\n",
    "df['InferredVesselType'] = df['SpeedOverGround'].apply(infer_vessel_type)"
   ]
  },
  {
   "cell_type": "code",
   "execution_count": 34,
   "id": "97e6f056-c55d-45d6-a06d-cd6a56f4af99",
   "metadata": {},
   "outputs": [],
   "source": [
    "df['RateOfTurn'] = df['RateOfTurn'].astype(str)"
   ]
  },
  {
   "cell_type": "code",
   "execution_count": 35,
   "id": "4f4a3e3b-20d6-45c8-a312-6aa46ef10e48",
   "metadata": {},
   "outputs": [],
   "source": [
    "df['PositionAccuracy'] = df['PositionAccuracy'].astype(str)"
   ]
  },
  {
   "cell_type": "code",
   "execution_count": 38,
   "id": "f4466eab-1f5c-453f-b4b5-53000256ef02",
   "metadata": {},
   "outputs": [],
   "source": [
    "def convert_latitude_dms_to_dd(dms_str):\n",
    "    # Remove leading and trailing whitespaces\n",
    "    dms_str = dms_str.strip()\n",
    "    \n",
    "    # Check if the last character is the direction indicator\n",
    "    direction = dms_str[-1]\n",
    "    if direction not in ['N', 'S']:\n",
    "        raise ValueError(f\"Invalid direction '{direction}' in DMS string\")\n",
    "\n",
    "    # Remove the direction character from the DMS string\n",
    "    dms_str = dms_str[:-1].strip()\n",
    "    \n",
    "    # Split the DMS string into parts\n",
    "    parts = re.split('[°\\'\"]', dms_str)\n",
    "\n",
    "    # Convert the parts to float\n",
    "    degrees = float(parts[0].strip())\n",
    "    minutes = float(parts[1].strip())\n",
    "    seconds = float(parts[2].strip()) if len(parts) > 2 and parts[2].strip() else 0.0\n",
    "\n",
    "    # Calculate the decimal degree\n",
    "    dd = degrees + (minutes / 60.0) + (seconds / 3600.0)\n",
    "    \n",
    "    # Adjust for direction\n",
    "    if direction == 'S':\n",
    "        dd *= -1\n",
    "        \n",
    "    return dd"
   ]
  },
  {
   "cell_type": "code",
   "execution_count": 39,
   "id": "b256dfe9-ab79-4f36-be34-df0137f4a5f4",
   "metadata": {},
   "outputs": [],
   "source": [
    "def convert_longitude_dms_to_dd(dms_str):\n",
    "    # Remove leading and trailing whitespaces\n",
    "    dms_str = dms_str.strip()\n",
    "    \n",
    "    # Check if the last character is the direction indicator\n",
    "    direction = dms_str[-1]\n",
    "    if direction not in ['E', 'W']:\n",
    "        raise ValueError(f\"Invalid direction '{direction}' in DMS string\")\n",
    "\n",
    "    # Remove the direction character from the DMS string\n",
    "    dms_str = dms_str[:-1].strip()\n",
    "    \n",
    "    # Split the DMS string into parts\n",
    "    parts = re.split('[°\\'\"]', dms_str)\n",
    "\n",
    "    # Convert the parts to float\n",
    "    degrees = float(parts[0].strip())\n",
    "    minutes = float(parts[1].strip())\n",
    "    seconds = float(parts[2].strip()) if len(parts) > 2 and parts[2].strip() else 0.0\n",
    "\n",
    "    # Calculate the decimal degree\n",
    "    dd = degrees + (minutes / 60.0) + (seconds / 3600.0)\n",
    "    \n",
    "    # Adjust for direction\n",
    "    if direction == 'E':\n",
    "        dd *= 1\n",
    "        \n",
    "    return dd"
   ]
  },
  {
   "cell_type": "code",
   "execution_count": 40,
   "id": "21805472-b38a-4f66-b7ef-8525c9bba483",
   "metadata": {},
   "outputs": [],
   "source": [
    "df['Latitude'] = df['Latitude'].apply(convert_latitude_dms_to_dd)"
   ]
  },
  {
   "cell_type": "code",
   "execution_count": 41,
   "id": "1cbd2d71-0025-4bc8-827c-9373dbd4d1c1",
   "metadata": {},
   "outputs": [],
   "source": [
    "df['Longitude'] = df['Longitude'].apply(convert_longitude_dms_to_dd)"
   ]
  },
  {
   "cell_type": "code",
   "execution_count": 47,
   "id": "42cfc3c1-82b5-40b4-9129-1b118719b661",
   "metadata": {},
   "outputs": [],
   "source": [
    "def clean_course_over_ground(cog):\n",
    "     cog = cog.replace('°', '')\n",
    "    \n",
    "     try:\n",
    "        return float(cog)\n",
    "     except ValueError:\n",
    "         return None    "
   ]
  },
  {
   "cell_type": "code",
   "execution_count": 49,
   "id": "d28114a7-be38-4fae-93c7-999db4df8149",
   "metadata": {},
   "outputs": [],
   "source": [
    "df['CourseOverGround'] = df['CourseOverGround'].apply(clean_course_over_ground)"
   ]
  },
  {
   "cell_type": "code",
   "execution_count": 50,
   "id": "7d4c48b5-e14c-4f29-a999-9686c24b0eeb",
   "metadata": {},
   "outputs": [],
   "source": [
    "df['Heading'] = df['Heading'].astype(str)"
   ]
  },
  {
   "cell_type": "code",
   "execution_count": 51,
   "id": "cc1cac8f-3ea6-4053-8c25-078ea861c8c2",
   "metadata": {},
   "outputs": [],
   "source": [
    "output_file = 'Vesssel_Data 2.csv'\n",
    "df.to_csv(output_file, index=False)"
   ]
  },
  {
   "cell_type": "code",
   "execution_count": 52,
   "id": "31f094ff-708b-4829-9359-d2bded88a54f",
   "metadata": {},
   "outputs": [
    {
     "name": "stdout",
     "output_type": "stream",
     "text": [
      "cleaned saved data to Vesssel_Data 2.csv\n"
     ]
    }
   ],
   "source": [
    "print(f\"cleaned saved data to {output_file}\")"
   ]
  },
  {
   "cell_type": "code",
   "execution_count": null,
   "id": "0b18aa37-cbb5-414b-aa93-ddd425af4ea7",
   "metadata": {},
   "outputs": [],
   "source": []
  }
 ],
 "metadata": {
  "kernelspec": {
   "display_name": "Python 3 (ipykernel)",
   "language": "python",
   "name": "python3"
  },
  "language_info": {
   "codemirror_mode": {
    "name": "ipython",
    "version": 3
   },
   "file_extension": ".py",
   "mimetype": "text/x-python",
   "name": "python",
   "nbconvert_exporter": "python",
   "pygments_lexer": "ipython3",
   "version": "3.12.2"
  }
 },
 "nbformat": 4,
 "nbformat_minor": 5
}
